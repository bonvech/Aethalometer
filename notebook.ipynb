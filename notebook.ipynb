{
 "cells": [
  {
   "cell_type": "markdown",
   "source": "## Aethalometer® Model AE33",
   "metadata": {
    "tags": [],
    "cell_id": "00000-ba20cc1b-ef91-4b8d-99ca-42cb3f819b1d",
    "deepnote_cell_type": "markdown"
   }
  },
  {
   "cell_type": "code",
   "metadata": {
    "tags": [],
    "deepnote_to_be_reexecuted": false,
    "source_hash": "fa9da455",
    "execution_start": 1639338565854,
    "execution_millis": 29,
    "cell_id": "00001-ba6f6d19-ecff-47e2-921b-5114a08e924f",
    "deepnote_cell_type": "code"
   },
   "source": "from AE33_device import AE33_device\n\ndevice = AE33_device()\ndevice.read_path_file()\ndevice.print_params()\ndevice.write_path_file()",
   "outputs": [
    {
     "name": "stdout",
     "text": "RUN =  1\nIP =  192.168.1.62\nPort =  8002\npathfile =  ./data/\nMINID =  943370\n",
     "output_type": "stream"
    }
   ],
   "execution_count": null
  },
  {
   "cell_type": "markdown",
   "source": "### To do\n1. Данные формата D класть в файл xls\n2. дата, время, BB%, BC1; BC2; BC3; BC4; BC5; BC6; BC7; дата, время, писать в таблицу xls. таблица на год\n3. График за 2 суток на одном графике всех 8 параметров, плавающий, пересчет после каждого считывания.\n4. Какой-то еще график",
   "metadata": {
    "tags": [],
    "cell_id": "00002-cae35f39-f9d0-42fb-b8e1-14ff5c067d24",
    "deepnote_cell_type": "markdown"
   }
  },
  {
   "cell_type": "code",
   "metadata": {
    "tags": [],
    "deepnote_to_be_reexecuted": false,
    "source_hash": "5f48dfb9",
    "execution_start": 1640004060917,
    "execution_millis": 53,
    "deepnote_output_heights": [
     null,
     309.1875
    ],
    "cell_id": "00003-7de2de95-51ca-4790-b440-7dce804d964a",
    "deepnote_cell_type": "code"
   },
   "source": "import sys\nimport socket\nimport time\nfrom datetime import datetime\nimport os\n\n\nclass AE33_device:\n    def __init__(self):\n        self.MINID = 0\n        self.MAXID = 0\n\n        ## for data files\n        self.yy = '0'        ##  year for filename of raw file\n        self.mm = '0'        ## month for filename of raw file\n        self.yy_D = '0'      ##  year for filename of D-file\n        self.mm_D = '0'      ## month for filename of D-file \n        self.pathfile = ''   ## work directory name\n        self.file_raw = None       ## file for raw data\n        self.file_format_D = None  ## file for raw data\n        self.file_header = ''\n\n        self.run_mode = 0\n\n        self.buff = ''\n        self.info = ''\n        self.IPname = '213.131.1.46'\n        self.IsConnected = 1\n        self.Port = 8002  ## port number\n        self.sock = None  ## socket\n\n        self.fill_header()\n\n\n    def fill_header(self):\n        self.file_header = \"AETHALOMETER\\nSerial number = AE33-S08-01006\\nApplication version = 1.6.7.0\\nNumber of channels = 7\\n\\nDate(yyyy/MM/dd); Time(hh:mm:ss); Timebase; RefCh1; Sen1Ch1; Sen2Ch1; RefCh2; Sen1Ch2; Sen2Ch2; RefCh3; Sen1Ch3; Sen2Ch3; RefCh4; Sen1Ch4; Sen2Ch4; RefCh5; Sen1Ch5; Sen2Ch5; RefCh6; Sen1Ch6; Sen2Ch6; RefCh7; Sen1Ch7; Sen2Ch7; Flow1; Flow2; FlowC; Pressure(Pa); Temperature(°C); BB(%); ContTemp; SupplyTemp; Status; ContStatus; DetectStatus; LedStatus; ValveStatus; LedTemp; BC11; BC12; BC1; BC21; BC22; BC2; BC31; BC32; BC3; BC41; BC42; BC4; BC51; BC52; BC5; BC61; BC62; BC6; BC71; BC72; BC7; K1; K2; K3; K4; K5; K6; K7; TapeAdvCount;\\n\\n\\n\"\n\n\n    def read_path_file(self):\n        # check file\n        #print(\"read file\")\n        try:\n            f = open(\"PATHFILES.CNF\")\n        except:\n            print(\"Error!! No file PATHFILES.CNF\\n\\n\")\n            return -1\n        \n        params = [x.replace('\\n','') for x in f.readlines() if x[0] != '#']\n        f.close()\n        #print(params)\n        \n        for param in params:\n            if \"RUN\" in param:\n                self.run_mode = int(param.split('=')[1])\n            elif \"IP\" in param:\n                self.IPname = param.split('=')[1].split()[0]\n                self.Port   = int(param.split('=')[1].split()[1])\n            elif \"MINID\" in param:\n                self.MINID = int(param.split('=')[1])\n                self.MAXID = self.MINID\n            else:\n                self.pathfile = param\n                os.system(\"mkdir \" + param)\n    # \\todo ПОПРАВИТЬ в конфигурацилонном файле СЛЕШИ В ИМЕНИ ДИРЕКТОРИИ  !!!   для ВИНДА\n\n\n    def write_path_file(self):\n        f = open(\"PATHFILES.CNF.bak\", 'w')\n        f.write(\"#\\n\")\n        f.write(\"# Programm mode:\\n\")\n        f.write(\"#   1 - for MAIN-menu,  0 - Auto RUN\\n\")\n        f.write(\"#\\n\")\n        f.write(\"RUN=\" + str(self.run_mode) + \"\\n\")\n        f.write(\"#\\n\")\n        f.write(\"# Directory for DATA:\\n\")\n        f.write(\"#\\n\")\n        f.write(self.pathfile + '\\n')\n        f.write(\"#\\n\")\n        f.write(\"# AE33:   IP address and Port:\\n\")\n        f.write(\"#\\n\")\n        f.write(\"IP=\" + self.IPname + '  ' + str(self.Port) +\"\\n\")\n        f.write(\"#\\n\")\n        f.write(\"# AE33:  Last Records:\\n\")\n        f.write(\"#\\n\")\n        f.write(\"MINID=\" + str(self.MAXID) + \"\\n\")\n        f.write(\"#\\n\")\n        f.close()\n\n\n    def print_params(self):\n        print(\"RUN = \", self.run_mode)\n        print(\"IP = \", self.IPname)\n        print(\"Port = \", self.Port)\n        print(\"pathfile = \", self.pathfile)\n        print(\"MINID = \", self.MINID)\n\n\n    def connect(self):\n        if self.active == -1:\n            return -1\n        \n        #socket.socket(family='AF_INET', type='SOCK_STREAM', proto=0, fileno=None)\n        self.sock = socket.socket(socket.AF_INET, socket.SOCK_STREAM | socket.SOCK_NONBLOCK);\n        self.sock.connect((self.IPname, self.Port)) \n        ## \\todo проверить, что связь установлена\n\n\n    def unconnect(self):\n        ##  socket.shutdown(self.sock, SHUT_RD|SHUT_WR)\n        self.sock.close()\n\n\n    def request(self, command, start, stop):\n        if command == 'FETCH DATA':\n            command += ' ' + str(start) + ' ' + str(stop)\n        command += '\\r\\n'\n\n        ## --- send command ---\n        time.sleep(1)\n        ##self.sock.send(bytes(command))\n        bytes = self.sock.send(command.encode())\n        ## \\todo проверить, что все отправилось\n        if bytes != len(command):\n            print(\"request: Error in sending data!! \") \n        print('sent ', bytes, ' to socket')\n\n        if \"CLOSE\" in command:\n            return 1\n\n        ## --- read data ---\n        time.sleep(1)\n        attempts = 0\n        self.buff = self.sock.recv()\n        while(len(buff) == 0 and attempts < 10):\n            time.sleep(1)\n            self.buff = self.sock.recv()\n            attempts += 1\n        if attempts >= 10:\n            print(\"request: Error in receive\")\n            self.sock.unconnect()\n            return 2\n        \n        if \"MAXID\" in command:\n            self.MAXID = int(buff)\n        if \"MINID\" in command:\n            self.MINID = int(buff)\n        if '?' in command:\n            self.info = buff\n        if \"FETCH\" in command:\n            self.parse_raw_data()\n        if \"AE33\" in command:\n            if \"AE33:D\":\n                self.parse_format_D_data()            \n        return 0\n\n\n    def parse_raw_data(self):\n        if len(self.buff) < 10:\n            return\n        self.buff = self.buff.split(\"AE33>\")\n        for line in self.buff:\n            if len(line) < 50:\n                continue\n\n            mm, dd, yy = line.split(\"|\")[2][:10].split('/')\n            if mm != self.mm or yy != self.yy:\n                filename = '_'.join((yy, mm)) + '_AE33-S08-01006.raw'\n                filename = self.pathfile + filename\n                if self.file_raw:\n                    self.file_raw.close()\n                self.file_raw = open(filename, \"a\")\n            self.file_raw.write(line)\n            self.file_raw.write('\\n')\n            \n        self.file_raw.flush()\n        self.mm = mm\n        self.yy = yy\n\n\n    def parse_format_D_data(self):\n        ## for test \n        #f = open(\"buffer.txt\")\n        #self.buff = f.read().split('\\n')\n        #f.close()\n        #print(self.buff)\n\n        ## main\n        if len(self.buff) < 10:\n            return\n\n        lastmm, lastyy = '0', '0'\n        filename = ''\n        lastline = ''\n        need_check = True\n        dateformat = \"%Y/%m/%d %H:%M:%S\"\n        for line in self.buff[::-1]:\n            print(line)\n            yy, mm, _ = line.split()[0].split('/')\n            #print(yy, mm)\n\n            # for first line or new file\n            if mm != lastmm or yy != lastyy:\n                filename = '_'.join((yy, mm)) + '_AE33-S08-01006.ddat'\n                try:\n                    ## file exists\n                    f = open(filename, 'r')\n                    lastline = f.readlines()[-1].split()\n                    lasttime = lastline[0] + ' ' + lastline[1]\n                    lasttime = datetime.strptime(lasttime, dateformat)\n                    f.close()\n                    lastmm = mm\n                    lastyy = yy\n                    need_check = True\n                except:\n                    ## no file\n                    f = open(filename, 'a')        \n                    f.write(self.file_header)\n                    f.close()\n                    lastline = []\n                    need_check = False\n\n            ## check line\n            if need_check: # and len(lastline):\n                print(line)\n                nowtime  = line.split()[0] + ' ' + line.split()[1]\n                print(nowtime)\n                nowtime  = datetime.strptime(nowtime,  dateformat)\n                print(nowtime - lasttime)\n                if nowtime <= lasttime:\n                    continue\n\n            need_check = False\n\n            ## write to file\n            f = open(filename, 'a')\n            f.write(line)\n            f.write('\\n')\n            f.close()\n \n\n\n\ndevice = AE33_device()\ndevice.read_path_file()\ndevice.print_params()\ndevice.write_path_file()\n#device.connect()\ndevice.parse_format_D_data()\n#device.sock.send(bytes('Hello, world', encoding = 'UTF-8'))  # отправляем сообщение\n#device.unconnect()",
   "outputs": [
    {
     "name": "stdout",
     "text": "RUN =  1\nIP =  192.168.1.62\nPort =  8002\npathfile =  ./data/\nMINID =  943370\n",
     "output_type": "stream",
     "data": {}
    }
   ],
   "execution_count": null
  },
  {
   "cell_type": "code",
   "metadata": {
    "tags": [],
    "cell_id": "00004-13329f15-f091-4ee4-8769-c2820819ce8b",
    "deepnote_cell_type": "code"
   },
   "source": "",
   "outputs": [],
   "execution_count": null
  },
  {
   "cell_type": "code",
   "metadata": {
    "tags": [],
    "deepnote_to_be_reexecuted": false,
    "source_hash": "80573647",
    "execution_start": 1640004529288,
    "execution_millis": 25,
    "cell_id": "00005-9b280577-f4bc-4f25-9022-bf084989b6cb",
    "deepnote_cell_type": "code"
   },
   "source": "#import time\n#import datetime\nfrom datetime import datetime\n\ndef fill_header():\n    selffile_header = \"AETHALOMETER\\nSerial number = AE33-S08-01006\\nApplication version = 1.6.7.0\\nNumber of channels = 7\\n\\nDate(yyyy/MM/dd); Time(hh:mm:ss); Timebase; RefCh1; Sen1Ch1; Sen2Ch1; RefCh2; Sen1Ch2; Sen2Ch2; RefCh3; Sen1Ch3; Sen2Ch3; RefCh4; Sen1Ch4; Sen2Ch4; RefCh5; Sen1Ch5; Sen2Ch5; RefCh6; Sen1Ch6; Sen2Ch6; RefCh7; Sen1Ch7; Sen2Ch7; Flow1; Flow2; FlowC; Pressure(Pa); Temperature(°C); BB(%); ContTemp; SupplyTemp; Status; ContStatus; DetectStatus; LedStatus; ValveStatus; LedTemp; BC11; BC12; BC1; BC21; BC22; BC2; BC31; BC32; BC3; BC41; BC42; BC4; BC51; BC52; BC5; BC61; BC62; BC6; BC71; BC72; BC7; K1; K2; K3; K4; K5; K6; K7; TapeAdvCount;\\n\\n\\n\"\n    return selffile_header\n\n\ndef selfparse_format_D_data():\n    ## for test\n    selffile_header = fill_header()\n    selfmm_D='11'\n    selfyy_D='2021'\n    f = open(\"buffer.txt\")\n    selfbuff = f.read().split('\\n')\n    f.close()\n    print(selfbuff)\n    #print(len(selfbuff))\n\n    # main\n    lastmm, lastyy = '0', '0'\n    filename = ''\n    lastline = ''\n    need_check = True\n    dateformat = \"%Y/%m/%d %H:%M:%S\"\n    for line in selfbuff[::-1]:\n        print(line)\n        yy, mm, _ = line.split()[0].split('/')\n        #print(yy, mm)\n\n        # for first line or new file\n        if mm != lastmm or yy != lastyy:\n            filename = '_'.join((yy, mm)) + '_AE33-S08-01006.ddat'\n            try:\n                ## file exists\n                f = open(filename, 'r')\n                lastline = f.readlines()[-1].split()\n                lasttime = lastline[0] + ' ' + lastline[1]\n                print(\"1==>\", lasttime)\n                lasttime = datetime.strptime(lasttime, dateformat)\n                print(\"2==>\", lasttime)\n                f.close()\n                print(\"3==>\", lasttime)\n                lastmm = mm\n                lastyy = yy\n                need_check = True\n            except:\n                ## no file\n                print(\"exc1==>\", lasttime)\n                f = open(filename, 'a')        \n                f.write(selffile_header)\n                f.close()\n                lastline = []\n                need_check = False\n\n        ## check line\n        if need_check: # and len(lastline):\n            print(line)\n            nowtime  = line.split()[0] + ' ' + line.split()[1]\n            print(nowtime)\n            nowtime  = datetime.strptime(nowtime,  dateformat)\n            print(nowtime - lasttime)\n            if nowtime <= lasttime:\n                continue\n\n        need_check = False\n\n        ## write to file\n        f = open(filename, 'a')\n        f.write(line)\n        f.write('\\n')\n        f.close()\n\n\nselfparse_format_D_data()\nprint(\"OK\")",
   "outputs": [
    {
     "name": "stdout",
     "text": "['2021/12/20 00:08:00 60 951871 240458 584057 932577 307374 631018 925452 341798 638565 924099 465324 767084 925583 465984 768139 819660 535818 814599 895035 559514 831270 3796 1205 5001 101325 21.11 13.7 30 39 0 0 10 10 00000 32 158 195 312 165 201 302 162 207 282 146 223 228 184 229 288 134 134 191 189 256 265 0.004313926 0.004950107 0.005439872 0.006022566 0.006020389 0.00666612 0.006853341 1008 6 0 0 21.6 16.5 -5.0 23.1 14.1 -5.9', '2021/12/20 00:07:00 60 951824 240412 583980 932491 307294 630926 925398 341734 638491 924003 465221 766978 925493 465894 768035 819564 535707 814466 894887 559384 831114 3796 1205 5001 101325 21.11 60.4 30 41 0 0 10 10 00000 32 115 211 229 174 175 317 147 207 258 152 140 238 139 175 218 174 281 249 140 147 196 0.004314291 0.004948705 0.005439783 0.006020301 0.006020041 0.006669421 0.006851992 1008 6 0 0 21.6 16.5 -5.0 23.1 14.1 -5.9', '2021/12/20 00:06:00 60 951840 240367 583938 932542 307264 630912 925414 341687 638464 924051 465203 766983 925507 465844 768012 819568 535663 814456 894934 559368 831121 3796 1205 5001 101325 21.11 20.5 30 38 0 0 10 10 00000 32 166 227 329 157 250 288 177 215 309 118 186 184 178 206 278 168 105 240 170 290 238 0.004313895 0.004949002 0.005438954 0.006021404 0.00601913 0.006664279 0.006856507 1008 6 0 0 21.6 16.5 -5.0 23.1 14.1 -5.9', '2021/11/17 00:13:00 60 951871 240458 584057 932577 307374 631018 925452 341798 638565 924099 465324 767084 925583 465984 768139 819660 535818 814599 895035 559514 831270 3796 1205 5001 101325 21.11 13.7 30 39 0 0 10 10 00000 32 158 195 312 165 201 302 162 207 282 146 223 228 184 229 288 134 134 191 189 256 265 0.004313926 0.004950107 0.005439872 0.006022566 0.006020389 0.00666612 0.006853341 1008 6 0 0 21.6 16.5 -5.0 23.1 14.1 -5.9', '2021/11/17 00:12:00 60 951824 240412 583980 932491 307294 630926 925398 341734 638491 924003 465221 766978 925493 465894 768035 819564 535707 814466 894887 559384 831114 3796 1205 5001 101325 21.11 60.4 30 41 0 0 10 10 00000 32 115 211 229 174 175 317 147 207 258 152 140 238 139 175 218 174 281 249 140 147 196 0.004314291 0.004948705 0.005439783 0.006020301 0.006020041 0.006669421 0.006851992 1008 6 0 0 21.6 16.5 -5.0 23.1 14.1 -5.9', '2021/11/17 00:05:00 60 951871 240458 584057 932577 307374 631018 925452 341798 638565 924099 465324 767084 925583 465984 768139 819660 535818 814599 895035 559514 831270 3796 1205 5001 101325 21.11 13.7 30 39 0 0 10 10 00000 32 158 195 312 165 201 302 162 207 282 146 223 228 184 229 288 134 134 191 189 256 265 0.004313926 0.004950107 0.005439872 0.006022566 0.006020389 0.00666612 0.006853341 1008 6 0 0 21.6 16.5 -5.0 23.1 14.1 -5.9', '2021/11/17 00:04:00 60 951824 240412 583980 932491 307294 630926 925398 341734 638491 924003 465221 766978 925493 465894 768035 819564 535707 814466 894887 559384 831114 3796 1205 5001 101325 21.11 60.4 30 41 0 0 10 10 00000 32 115 211 229 174 175 317 147 207 258 152 140 238 139 175 218 174 281 249 140 147 196 0.004314291 0.004948705 0.005439783 0.006020301 0.006020041 0.006669421 0.006851992 1008 6 0 0 21.6 16.5 -5.0 23.1 14.1 -5.9', '2021/11/17 00:03:00 60 951840 240367 583938 932542 307264 630912 925414 341687 638464 924051 465203 766983 925507 465844 768012 819568 535663 814456 894934 559368 831121 3796 1205 5001 101325 21.11 20.5 30 38 0 0 10 10 00000 32 166 227 329 157 250 288 177 215 309 118 186 184 178 206 278 168 105 240 170 290 238 0.004313895 0.004949002 0.005438954 0.006021404 0.00601913 0.006664279 0.006856507 1008 6 0 0 21.6 16.5 -5.0 23.1 14.1 -5.9', '2021/11/17 00:02:00 60 951863 240327 583901 932570 307227 630887 925437 341643 638448 924100 465169 766994 925575 465835 768033 819668 535682 814527 895009 559375 831176 3796 1205 5001 101325 21.11 35.2 31 41 0 0 10 10 00000 32 155 224 307 155 227 284 176 180 307 164 158 256 135 211 211 167 212 239 149 116 209 0.004313672 0.004948943 0.005437396 0.006019259 0.00602021 0.006664523 0.006852875 1008 6 0 0 21.6 16.5 -5.0 23.1 14.1 -5.9', '2021/11/17 00:01:00 60 951793 240267 583819 932509 307156 630806 925392 341588 638371 924016 465072 766883 925486 465733 767928 819569 535582 814400 894881 559255 831028 3796 1205 5001 101325 21.11 48.2 30 40 0 0 10 10 00000 32 143 171 284 171 205 313 129 259 225 153 220 239 178 185 279 127 214 182 149 231 210 0.004312994 0.004948132 0.005439036 0.006019999 0.006018565 0.006667251 0.006855432 1008 6 0 0 21.6 16.5 -5.0 23.1 14.1 -5.9', '2021/11/17 00:00:00 60 951867 240249 583823 932593 307135 630818 925455 341564 638383 924092 465064 766925 925570 465720 767960 819656 535591 814467 895008 559289 831132 3796 1205 5001 101325 21.11 25.3 30 38 0 0 10 10 00000 32 124 182 246 164 231 299 158 178 276 129 112 202 172 225 269 173 146 247 170 110 238 0.004312812 0.004947956 0.005437959 0.006017809 0.006018503 0.006663898 0.00685022 1008 6 0 0 21.6 16.5 -4.9 23.1 14.1 -5.9']\n2021/11/17 00:00:00 60 951867 240249 583823 932593 307135 630818 925455 341564 638383 924092 465064 766925 925570 465720 767960 819656 535591 814467 895008 559289 831132 3796 1205 5001 101325 21.11 25.3 30 38 0 0 10 10 00000 32 124 182 246 164 231 299 158 178 276 129 112 202 172 225 269 173 146 247 170 110 238 0.004312812 0.004947956 0.005437959 0.006017809 0.006018503 0.006663898 0.00685022 1008 6 0 0 21.6 16.5 -4.9 23.1 14.1 -5.9\n1==> 2021/11/17 00:13:00\n2==> 2021-11-17 00:13:00\n3==> 2021-11-17 00:13:00\n2021/11/17 00:00:00 60 951867 240249 583823 932593 307135 630818 925455 341564 638383 924092 465064 766925 925570 465720 767960 819656 535591 814467 895008 559289 831132 3796 1205 5001 101325 21.11 25.3 30 38 0 0 10 10 00000 32 124 182 246 164 231 299 158 178 276 129 112 202 172 225 269 173 146 247 170 110 238 0.004312812 0.004947956 0.005437959 0.006017809 0.006018503 0.006663898 0.00685022 1008 6 0 0 21.6 16.5 -4.9 23.1 14.1 -5.9\n2021/11/17 00:00:00\n-1 day, 23:47:00\n2021/11/17 00:01:00 60 951793 240267 583819 932509 307156 630806 925392 341588 638371 924016 465072 766883 925486 465733 767928 819569 535582 814400 894881 559255 831028 3796 1205 5001 101325 21.11 48.2 30 40 0 0 10 10 00000 32 143 171 284 171 205 313 129 259 225 153 220 239 178 185 279 127 214 182 149 231 210 0.004312994 0.004948132 0.005439036 0.006019999 0.006018565 0.006667251 0.006855432 1008 6 0 0 21.6 16.5 -5.0 23.1 14.1 -5.9\n2021/11/17 00:01:00 60 951793 240267 583819 932509 307156 630806 925392 341588 638371 924016 465072 766883 925486 465733 767928 819569 535582 814400 894881 559255 831028 3796 1205 5001 101325 21.11 48.2 30 40 0 0 10 10 00000 32 143 171 284 171 205 313 129 259 225 153 220 239 178 185 279 127 214 182 149 231 210 0.004312994 0.004948132 0.005439036 0.006019999 0.006018565 0.006667251 0.006855432 1008 6 0 0 21.6 16.5 -5.0 23.1 14.1 -5.9\n2021/11/17 00:01:00\n-1 day, 23:48:00\n2021/11/17 00:02:00 60 951863 240327 583901 932570 307227 630887 925437 341643 638448 924100 465169 766994 925575 465835 768033 819668 535682 814527 895009 559375 831176 3796 1205 5001 101325 21.11 35.2 31 41 0 0 10 10 00000 32 155 224 307 155 227 284 176 180 307 164 158 256 135 211 211 167 212 239 149 116 209 0.004313672 0.004948943 0.005437396 0.006019259 0.00602021 0.006664523 0.006852875 1008 6 0 0 21.6 16.5 -5.0 23.1 14.1 -5.9\n2021/11/17 00:02:00 60 951863 240327 583901 932570 307227 630887 925437 341643 638448 924100 465169 766994 925575 465835 768033 819668 535682 814527 895009 559375 831176 3796 1205 5001 101325 21.11 35.2 31 41 0 0 10 10 00000 32 155 224 307 155 227 284 176 180 307 164 158 256 135 211 211 167 212 239 149 116 209 0.004313672 0.004948943 0.005437396 0.006019259 0.00602021 0.006664523 0.006852875 1008 6 0 0 21.6 16.5 -5.0 23.1 14.1 -5.9\n2021/11/17 00:02:00\n-1 day, 23:49:00\n2021/11/17 00:03:00 60 951840 240367 583938 932542 307264 630912 925414 341687 638464 924051 465203 766983 925507 465844 768012 819568 535663 814456 894934 559368 831121 3796 1205 5001 101325 21.11 20.5 30 38 0 0 10 10 00000 32 166 227 329 157 250 288 177 215 309 118 186 184 178 206 278 168 105 240 170 290 238 0.004313895 0.004949002 0.005438954 0.006021404 0.00601913 0.006664279 0.006856507 1008 6 0 0 21.6 16.5 -5.0 23.1 14.1 -5.9\n2021/11/17 00:03:00 60 951840 240367 583938 932542 307264 630912 925414 341687 638464 924051 465203 766983 925507 465844 768012 819568 535663 814456 894934 559368 831121 3796 1205 5001 101325 21.11 20.5 30 38 0 0 10 10 00000 32 166 227 329 157 250 288 177 215 309 118 186 184 178 206 278 168 105 240 170 290 238 0.004313895 0.004949002 0.005438954 0.006021404 0.00601913 0.006664279 0.006856507 1008 6 0 0 21.6 16.5 -5.0 23.1 14.1 -5.9\n2021/11/17 00:03:00\n-1 day, 23:50:00\n2021/11/17 00:04:00 60 951824 240412 583980 932491 307294 630926 925398 341734 638491 924003 465221 766978 925493 465894 768035 819564 535707 814466 894887 559384 831114 3796 1205 5001 101325 21.11 60.4 30 41 0 0 10 10 00000 32 115 211 229 174 175 317 147 207 258 152 140 238 139 175 218 174 281 249 140 147 196 0.004314291 0.004948705 0.005439783 0.006020301 0.006020041 0.006669421 0.006851992 1008 6 0 0 21.6 16.5 -5.0 23.1 14.1 -5.9\n2021/11/17 00:04:00 60 951824 240412 583980 932491 307294 630926 925398 341734 638491 924003 465221 766978 925493 465894 768035 819564 535707 814466 894887 559384 831114 3796 1205 5001 101325 21.11 60.4 30 41 0 0 10 10 00000 32 115 211 229 174 175 317 147 207 258 152 140 238 139 175 218 174 281 249 140 147 196 0.004314291 0.004948705 0.005439783 0.006020301 0.006020041 0.006669421 0.006851992 1008 6 0 0 21.6 16.5 -5.0 23.1 14.1 -5.9\n2021/11/17 00:04:00\n-1 day, 23:51:00\n2021/11/17 00:05:00 60 951871 240458 584057 932577 307374 631018 925452 341798 638565 924099 465324 767084 925583 465984 768139 819660 535818 814599 895035 559514 831270 3796 1205 5001 101325 21.11 13.7 30 39 0 0 10 10 00000 32 158 195 312 165 201 302 162 207 282 146 223 228 184 229 288 134 134 191 189 256 265 0.004313926 0.004950107 0.005439872 0.006022566 0.006020389 0.00666612 0.006853341 1008 6 0 0 21.6 16.5 -5.0 23.1 14.1 -5.9\n2021/11/17 00:05:00 60 951871 240458 584057 932577 307374 631018 925452 341798 638565 924099 465324 767084 925583 465984 768139 819660 535818 814599 895035 559514 831270 3796 1205 5001 101325 21.11 13.7 30 39 0 0 10 10 00000 32 158 195 312 165 201 302 162 207 282 146 223 228 184 229 288 134 134 191 189 256 265 0.004313926 0.004950107 0.005439872 0.006022566 0.006020389 0.00666612 0.006853341 1008 6 0 0 21.6 16.5 -5.0 23.1 14.1 -5.9\n2021/11/17 00:05:00\n-1 day, 23:52:00\n2021/11/17 00:12:00 60 951824 240412 583980 932491 307294 630926 925398 341734 638491 924003 465221 766978 925493 465894 768035 819564 535707 814466 894887 559384 831114 3796 1205 5001 101325 21.11 60.4 30 41 0 0 10 10 00000 32 115 211 229 174 175 317 147 207 258 152 140 238 139 175 218 174 281 249 140 147 196 0.004314291 0.004948705 0.005439783 0.006020301 0.006020041 0.006669421 0.006851992 1008 6 0 0 21.6 16.5 -5.0 23.1 14.1 -5.9\n2021/11/17 00:12:00 60 951824 240412 583980 932491 307294 630926 925398 341734 638491 924003 465221 766978 925493 465894 768035 819564 535707 814466 894887 559384 831114 3796 1205 5001 101325 21.11 60.4 30 41 0 0 10 10 00000 32 115 211 229 174 175 317 147 207 258 152 140 238 139 175 218 174 281 249 140 147 196 0.004314291 0.004948705 0.005439783 0.006020301 0.006020041 0.006669421 0.006851992 1008 6 0 0 21.6 16.5 -5.0 23.1 14.1 -5.9\n2021/11/17 00:12:00\n-1 day, 23:59:00\n2021/11/17 00:13:00 60 951871 240458 584057 932577 307374 631018 925452 341798 638565 924099 465324 767084 925583 465984 768139 819660 535818 814599 895035 559514 831270 3796 1205 5001 101325 21.11 13.7 30 39 0 0 10 10 00000 32 158 195 312 165 201 302 162 207 282 146 223 228 184 229 288 134 134 191 189 256 265 0.004313926 0.004950107 0.005439872 0.006022566 0.006020389 0.00666612 0.006853341 1008 6 0 0 21.6 16.5 -5.0 23.1 14.1 -5.9\n2021/11/17 00:13:00 60 951871 240458 584057 932577 307374 631018 925452 341798 638565 924099 465324 767084 925583 465984 768139 819660 535818 814599 895035 559514 831270 3796 1205 5001 101325 21.11 13.7 30 39 0 0 10 10 00000 32 158 195 312 165 201 302 162 207 282 146 223 228 184 229 288 134 134 191 189 256 265 0.004313926 0.004950107 0.005439872 0.006022566 0.006020389 0.00666612 0.006853341 1008 6 0 0 21.6 16.5 -5.0 23.1 14.1 -5.9\n2021/11/17 00:13:00\n0:00:00\n2021/12/20 00:06:00 60 951840 240367 583938 932542 307264 630912 925414 341687 638464 924051 465203 766983 925507 465844 768012 819568 535663 814456 894934 559368 831121 3796 1205 5001 101325 21.11 20.5 30 38 0 0 10 10 00000 32 166 227 329 157 250 288 177 215 309 118 186 184 178 206 278 168 105 240 170 290 238 0.004313895 0.004949002 0.005438954 0.006021404 0.00601913 0.006664279 0.006856507 1008 6 0 0 21.6 16.5 -5.0 23.1 14.1 -5.9\n1==> 2021/12/20 00:08:00\n2==> 2021-12-20 00:08:00\n3==> 2021-12-20 00:08:00\n2021/12/20 00:06:00 60 951840 240367 583938 932542 307264 630912 925414 341687 638464 924051 465203 766983 925507 465844 768012 819568 535663 814456 894934 559368 831121 3796 1205 5001 101325 21.11 20.5 30 38 0 0 10 10 00000 32 166 227 329 157 250 288 177 215 309 118 186 184 178 206 278 168 105 240 170 290 238 0.004313895 0.004949002 0.005438954 0.006021404 0.00601913 0.006664279 0.006856507 1008 6 0 0 21.6 16.5 -5.0 23.1 14.1 -5.9\n2021/12/20 00:06:00\n-1 day, 23:58:00\n2021/12/20 00:07:00 60 951824 240412 583980 932491 307294 630926 925398 341734 638491 924003 465221 766978 925493 465894 768035 819564 535707 814466 894887 559384 831114 3796 1205 5001 101325 21.11 60.4 30 41 0 0 10 10 00000 32 115 211 229 174 175 317 147 207 258 152 140 238 139 175 218 174 281 249 140 147 196 0.004314291 0.004948705 0.005439783 0.006020301 0.006020041 0.006669421 0.006851992 1008 6 0 0 21.6 16.5 -5.0 23.1 14.1 -5.9\n2021/12/20 00:07:00 60 951824 240412 583980 932491 307294 630926 925398 341734 638491 924003 465221 766978 925493 465894 768035 819564 535707 814466 894887 559384 831114 3796 1205 5001 101325 21.11 60.4 30 41 0 0 10 10 00000 32 115 211 229 174 175 317 147 207 258 152 140 238 139 175 218 174 281 249 140 147 196 0.004314291 0.004948705 0.005439783 0.006020301 0.006020041 0.006669421 0.006851992 1008 6 0 0 21.6 16.5 -5.0 23.1 14.1 -5.9\n2021/12/20 00:07:00\n-1 day, 23:59:00\n2021/12/20 00:08:00 60 951871 240458 584057 932577 307374 631018 925452 341798 638565 924099 465324 767084 925583 465984 768139 819660 535818 814599 895035 559514 831270 3796 1205 5001 101325 21.11 13.7 30 39 0 0 10 10 00000 32 158 195 312 165 201 302 162 207 282 146 223 228 184 229 288 134 134 191 189 256 265 0.004313926 0.004950107 0.005439872 0.006022566 0.006020389 0.00666612 0.006853341 1008 6 0 0 21.6 16.5 -5.0 23.1 14.1 -5.9\n2021/12/20 00:08:00 60 951871 240458 584057 932577 307374 631018 925452 341798 638565 924099 465324 767084 925583 465984 768139 819660 535818 814599 895035 559514 831270 3796 1205 5001 101325 21.11 13.7 30 39 0 0 10 10 00000 32 158 195 312 165 201 302 162 207 282 146 223 228 184 229 288 134 134 191 189 256 265 0.004313926 0.004950107 0.005439872 0.006022566 0.006020389 0.00666612 0.006853341 1008 6 0 0 21.6 16.5 -5.0 23.1 14.1 -5.9\n2021/12/20 00:08:00\n0:00:00\nOK\n",
     "output_type": "stream",
     "data": {}
    }
   ],
   "execution_count": null
  },
  {
   "cell_type": "code",
   "metadata": {
    "tags": [],
    "cell_id": "00006-3c412524-3683-4526-b1bf-0b3ef8c8f2d3",
    "deepnote_cell_type": "code"
   },
   "source": "",
   "outputs": [],
   "execution_count": null
  },
  {
   "cell_type": "code",
   "metadata": {
    "tags": [],
    "deepnote_to_be_reexecuted": false,
    "source_hash": "d9af510d",
    "execution_start": 1639337889769,
    "execution_millis": 8,
    "cell_id": "00007-d4cdfedc-94db-4de0-a1b5-8617f428f43b",
    "deepnote_cell_type": "code"
   },
   "source": "def write_path_file():\n    selfrun_mode = 3\n    selfpathfile = \"./data1/\"\n    selfIPname = '192.168.1.62'\n    selfPort = 8002\n    selfMAXID = 9999\n    f = open(\"PATHFILES.CNF.bak\", 'w')\n    f.write(\"#\\n\")\n    f.write(\"# Programm mode:\\n\")\n    f.write(\"#   1 - for MAIN-menu,  0 - Auto RUN\\n\")\n    f.write(\"#\\n\")\n    f.write(\"RUN=\" + str(selfrun_mode) + \"\\n\")\n    f.write(\"#\\n\")\n    f.write(\"# Directory for DATA:\\n\")\n    f.write(\"#\\n\")\n    f.write(selfpathfile + '\\n')\n    f.write(\"#\\n\")\n    f.write(\"# AE33:   IP address and Port:\\n\")\n    f.write(\"#\\n\")\n    f.write(\"IP=\" + selfIPname + '  ' + str(selfPort) +\"\\n\")\n    f.write(\"#\\n\")\n    f.write(\"# AE33:  Last Records:\\n\")\n    f.write(\"#\\n\")\n    f.write(\"MINID=\" + str(selfMAXID) + \"\\n\")\n    f.write(\"#\\n\")\n    f.close()\n\nwrite_path_file()",
   "outputs": [],
   "execution_count": null
  },
  {
   "cell_type": "code",
   "metadata": {
    "tags": [],
    "deepnote_to_be_reexecuted": false,
    "source_hash": "7c116558",
    "execution_start": 1639335397082,
    "execution_millis": 5,
    "deepnote_output_heights": [
     78.796875
    ],
    "cell_id": "00008-6f154a99-c243-46ea-9417-7314a6a5a78a",
    "deepnote_cell_type": "code"
   },
   "source": "import datetime\nfrom datetime import datetime\n\nlasttime = '2021/11/17 00:24:00'\nnowtime  = '2021/11/17 00:17:00'\n\n#dt = datetime.timedelta(lasttime-nowtime)\n#line_db = '2011-11-04 00:05:23.283'\n\nlasttime = datetime.strptime(lasttime, \"%Y/%m/%d %H:%M:%S\")\nnowtime  = datetime.strptime(nowtime,  \"%Y/%m/%d %H:%M:%S\")\nprint(nowtime - lasttime)\nif nowtime <= lasttime:\n    print(\"no, ranshe\")\nelse:\n    print('yes')",
   "outputs": [
    {
     "name": "stdout",
     "text": "-1 day, 23:53:00\nno, ranshe\n",
     "output_type": "stream"
    }
   ],
   "execution_count": null
  },
  {
   "cell_type": "code",
   "metadata": {
    "tags": [],
    "deepnote_to_be_reexecuted": false,
    "source_hash": "54ecbcaa",
    "execution_start": 1639323984585,
    "execution_millis": 341,
    "deepnote_output_heights": [
     21.1875
    ],
    "cell_id": "00009-0739f34b-5c08-4b5c-81fe-f42c6875df63",
    "deepnote_cell_type": "code"
   },
   "source": "selfbuff=\"AE33>AE33-S08-01006|934803|11/25/2021 4:14:00 PM|11/25/2021 4:15:00 PM|15|4/26/2020 5:56:15 PM|936036|296054|640942|915985|356924|669352|914645|390507|674155|909862|512676|794568|911313|513404|795643|806816|576523|835445|882069|599657|851611|282|380|487|322|436|530|335|410|528|301|321|429|323|370|461|328|322|420|432|342|359|0.004438983|0.005176876|0.005624666|0.006049186|0.006050732|0.005916851|0.006023637|22.25969|101325.0|21.1|3787|1214|5001|31.0|38.0|33.0|0|10|10|0|0|1014|150|0|29682|15\\\nAE33>AE33-S08-01006|934804|12/25/2021 4:15:00 PM|11/25/2021 4:16:00 PM|15|4/26/2020 5:56:15 PM|935996|295934|640817|915960|356794|669247|914634|390397|674071|909774|512509|794419|911268|513267|795532|806804|576410|835384|882018|599523|851516|296|387|512|349|418|574|309|402|488|298|368|425|317|409|452|351|351|450|439|347|351|0.004438719|0.005175995|0.005624828|0.006049688|0.006052002|0.005914216|0.006021341|30.41262|101325.0|21.1|3785|1216|5001|31.0|41.0|33.0|0|10|10|0|0|1014|150|0|29682|15\\\nAE33>AE33-S08-01006|934804|12/25/2021 5:15:00 PM|11/25/2021 4:16:00 PM|15|4/26/2020 5:56:15 PM|935996|295934|640817|915960|356794|669247|914634|390397|674071|909774|512509|794419|911268|513267|795532|806804|576410|835384|882018|599523|851516|296|387|512|349|418|574|309|402|488|298|368|425|317|409|452|351|351|450|439|347|351|0.004438719|0.005175995|0.005624828|0.006049688|0.006052002|0.005914216|0.006021341|30.41262|101325.0|21.1|3785|1216|5001|31.0|41.0|33.0|0|10|10|0|0|1014|150|0|29682|15\\\nAE33>AE33-S08-01006|934804|12/25/2021 6:15:00 PM|11/25/2021 4:16:00 PM|15|4/26/2020 5:56:15 PM|935996|295934|640817|915960|356794|669247|914634|390397|674071|909774|512509|794419|911268|513267|795532|806804|576410|835384|882018|599523|851516|296|387|512|349|418|574|309|402|488|298|368|425|317|409|452|351|351|450|439|347|351|0.004438719|0.005175995|0.005624828|0.006049688|0.006052002|0.005914216|0.006021341|30.41262|101325.0|21.1|3785|1216|5001|31.0|41.0|33.0|0|10|10|0|0|1014|150|0|29682|15\\\nAE33>AE33-S08-01006|934804|12/25/2021 7:15:00 PM|11/25/2021 4:16:00 PM|15|4/26/2020 5:56:15 PM|935996|295934|640817|915960|356794|669247|914634|390397|674071|909774|512509|794419|911268|513267|795532|806804|576410|835384|882018|599523|851516|296|387|512|349|418|574|309|402|488|298|368|425|317|409|452|351|351|450|439|347|351|0.004438719|0.005175995|0.005624828|0.006049688|0.006052002|0.005914216|0.006021341|30.41262|101325.0|21.1|3785|1216|5001|31.0|41.0|33.0|0|10|10|0|0|1014|150|0|29682|15\\\nAE33>\"\n#print(buff)\n#len(buff.split(\"|\"))\nselfbuff = selfbuff.split(\"AE33>\")\n#print(buff)\n\nselfmm = 11\nselfyy = 2021\nselffilename_raw = ''\nselffile_raw = None\nfor line in selfbuff:\n    if len(line) < 50:\n        continue\n\n    mm, dd, yy = line.split(\"|\")[2][:10].split('/')\n    if mm != selfmm or yy != selfyy:\n        filename = '_'.join((yy, mm)) + '_AE33-S08-01006.raw'\n        if selffile_raw:\n            selffile_raw.close()\n        selffile_raw = open(filename, \"a\")\n    selffile_raw.write(line)\n    selffile_raw.write('\\n')\n    \nselffile_raw.flush()\nselfmm = mm\nselfyy = yy",
   "outputs": [],
   "execution_count": null
  },
  {
   "cell_type": "code",
   "metadata": {
    "tags": [],
    "deepnote_to_be_reexecuted": false,
    "source_hash": "16b34b25",
    "execution_start": 1639325201123,
    "execution_millis": 11,
    "cell_id": "00010-bcb4bb4c-1c65-475a-b3b9-98d01366da17",
    "deepnote_cell_type": "code"
   },
   "source": "def fill_header():\n    selffile_header = \"AETHALOMETER\\nSerial number = AE33-S08-01006\\nApplication version = 1.6.7.0\\nNumber of channels = 7\\n\\nDate(yyyy/MM/dd); Time(hh:mm:ss); Timebase; RefCh1; Sen1Ch1; Sen2Ch1; RefCh2; Sen1Ch2; Sen2Ch2; RefCh3; Sen1Ch3; Sen2Ch3; RefCh4; Sen1Ch4; Sen2Ch4; RefCh5; Sen1Ch5; Sen2Ch5; RefCh6; Sen1Ch6; Sen2Ch6; RefCh7; Sen1Ch7; Sen2Ch7; Flow1; Flow2; FlowC; Pressure(Pa); Temperature(°C); BB(%); ContTemp; SupplyTemp; Status; ContStatus; DetectStatus; LedStatus; ValveStatus; LedTemp; BC11; BC12; BC1; BC21; BC22; BC2; BC31; BC32; BC3; BC41; BC42; BC4; BC51; BC52; BC5; BC61; BC62; BC6; BC71; BC72; BC7; K1; K2; K3; K4; K5; K6; K7; TapeAdvCount;\\n\\n\\n\"\n    print(selffile_header)\n\nfill_header()\n",
   "outputs": [
    {
     "name": "stdout",
     "text": "AETHALOMETER\nSerial number = AE33-S08-01006\nApplication version = 1.6.7.0\nNumber of channels = 7\n\nDate(yyyy/MM/dd); Time(hh:mm:ss); Timebase; RefCh1; Sen1Ch1; Sen2Ch1; RefCh2; Sen1Ch2; Sen2Ch2; RefCh3; Sen1Ch3; Sen2Ch3; RefCh4; Sen1Ch4; Sen2Ch4; RefCh5; Sen1Ch5; Sen2Ch5; RefCh6; Sen1Ch6; Sen2Ch6; RefCh7; Sen1Ch7; Sen2Ch7; Flow1; Flow2; FlowC; Pressure(Pa); Temperature(°C); BB(%); ContTemp; SupplyTemp; Status; ContStatus; DetectStatus; LedStatus; ValveStatus; LedTemp; BC11; BC12; BC1; BC21; BC22; BC2; BC31; BC32; BC3; BC41; BC42; BC4; BC51; BC52; BC5; BC61; BC62; BC6; BC71; BC72; BC7; K1; K2; K3; K4; K5; K6; K7; TapeAdvCount;\n\n\n\n",
     "output_type": "stream"
    }
   ],
   "execution_count": null
  },
  {
   "cell_type": "code",
   "metadata": {
    "tags": [],
    "deepnote_to_be_reexecuted": false,
    "source_hash": "89137a72",
    "execution_start": 1639321866861,
    "execution_millis": 1,
    "cell_id": "00011-1974c021-da1c-453f-927e-0564c5502929",
    "deepnote_cell_type": "code"
   },
   "source": "columns = 'Date(yyyy/MM/dd); Time(hh:mm:ss); Timebase; RefCh1; Sen1Ch1; Sen2Ch1; RefCh2; Sen1Ch2; Sen2Ch2; RefCh3; Sen1Ch3; Sen2Ch3; RefCh4; Sen1Ch4; Sen2Ch4; RefCh5; Sen1Ch5; Sen2Ch5; RefCh6; Sen1Ch6; Sen2Ch6; RefCh7; Sen1Ch7; Sen2Ch7; Flow1; Flow2; FlowC; Pressure(Pa); Temperature(°C); BB(%); ContTemp; SupplyTemp; Status; ContStatus; DetectStatus; LedStatus; ValveStatus; LedTemp; BC11; BC12; BC1; BC21; BC22; BC2; BC31; BC32; BC3; BC41; BC42; BC4; BC51; BC52; BC5; BC61; BC62; BC6; BC71; BC72; BC7; K1; K2; K3; K4; K5; K6; K7; TapeAdvCount;'\ncolumns = columns[:-1].split('; ')\nprint(len(columns),columns)",
   "outputs": [
    {
     "name": "stdout",
     "text": "67 ['Date(yyyy/MM/dd)', 'Time(hh:mm:ss)', 'Timebase', 'RefCh1', 'Sen1Ch1', 'Sen2Ch1', 'RefCh2', 'Sen1Ch2', 'Sen2Ch2', 'RefCh3', 'Sen1Ch3', 'Sen2Ch3', 'RefCh4', 'Sen1Ch4', 'Sen2Ch4', 'RefCh5', 'Sen1Ch5', 'Sen2Ch5', 'RefCh6', 'Sen1Ch6', 'Sen2Ch6', 'RefCh7', 'Sen1Ch7', 'Sen2Ch7', 'Flow1', 'Flow2', 'FlowC', 'Pressure(Pa)', 'Temperature(°C)', 'BB(%)', 'ContTemp', 'SupplyTemp', 'Status', 'ContStatus', 'DetectStatus', 'LedStatus', 'ValveStatus', 'LedTemp', 'BC11', 'BC12', 'BC1', 'BC21', 'BC22', 'BC2', 'BC31', 'BC32', 'BC3', 'BC41', 'BC42', 'BC4', 'BC51', 'BC52', 'BC5', 'BC61', 'BC62', 'BC6', 'BC71', 'BC72', 'BC7', 'K1', 'K2', 'K3', 'K4', 'K5', 'K6', 'K7', 'TapeAdvCount']\n",
     "output_type": "stream"
    }
   ],
   "execution_count": null
  },
  {
   "cell_type": "markdown",
   "source": "<a style='text-decoration:none;line-height:16px;display:flex;color:#5B5B62;padding:10px;justify-content:end;' href='https://deepnote.com?utm_source=created-in-deepnote-cell&projectId=8ca19116-6b96-4631-b7d9-685d9c5feb9e' target=\"_blank\">\n<img alt='Created in deepnote.com' style='display:inline;max-height:16px;margin:0px;margin-right:7.5px;' src='data:image/svg+xml;base64,PD94bWwgdmVyc2lvbj0iMS4wIiBlbmNvZGluZz0iVVRGLTgiPz4KPHN2ZyB3aWR0aD0iODBweCIgaGVpZ2h0PSI4MHB4IiB2aWV3Qm94PSIwIDAgODAgODAiIHZlcnNpb249IjEuMSIgeG1sbnM9Imh0dHA6Ly93d3cudzMub3JnLzIwMDAvc3ZnIiB4bWxuczp4bGluaz0iaHR0cDovL3d3dy53My5vcmcvMTk5OS94bGluayI+CiAgICA8IS0tIEdlbmVyYXRvcjogU2tldGNoIDU0LjEgKDc2NDkwKSAtIGh0dHBzOi8vc2tldGNoYXBwLmNvbSAtLT4KICAgIDx0aXRsZT5Hcm91cCAzPC90aXRsZT4KICAgIDxkZXNjPkNyZWF0ZWQgd2l0aCBTa2V0Y2guPC9kZXNjPgogICAgPGcgaWQ9IkxhbmRpbmciIHN0cm9rZT0ibm9uZSIgc3Ryb2tlLXdpZHRoPSIxIiBmaWxsPSJub25lIiBmaWxsLXJ1bGU9ImV2ZW5vZGQiPgogICAgICAgIDxnIGlkPSJBcnRib2FyZCIgdHJhbnNmb3JtPSJ0cmFuc2xhdGUoLTEyMzUuMDAwMDAwLCAtNzkuMDAwMDAwKSI+CiAgICAgICAgICAgIDxnIGlkPSJHcm91cC0zIiB0cmFuc2Zvcm09InRyYW5zbGF0ZSgxMjM1LjAwMDAwMCwgNzkuMDAwMDAwKSI+CiAgICAgICAgICAgICAgICA8cG9seWdvbiBpZD0iUGF0aC0yMCIgZmlsbD0iIzAyNjVCNCIgcG9pbnRzPSIyLjM3NjIzNzYyIDgwIDM4LjA0NzY2NjcgODAgNTcuODIxNzgyMiA3My44MDU3NTkyIDU3LjgyMTc4MjIgMzIuNzU5MjczOSAzOS4xNDAyMjc4IDMxLjY4MzE2ODMiPjwvcG9seWdvbj4KICAgICAgICAgICAgICAgIDxwYXRoIGQ9Ik0zNS4wMDc3MTgsODAgQzQyLjkwNjIwMDcsNzYuNDU0OTM1OCA0Ny41NjQ5MTY3LDcxLjU0MjI2NzEgNDguOTgzODY2LDY1LjI2MTk5MzkgQzUxLjExMjI4OTksNTUuODQxNTg0MiA0MS42NzcxNzk1LDQ5LjIxMjIyODQgMjUuNjIzOTg0Niw0OS4yMTIyMjg0IEMyNS40ODQ5Mjg5LDQ5LjEyNjg0NDggMjkuODI2MTI5Niw0My4yODM4MjQ4IDM4LjY0NzU4NjksMzEuNjgzMTY4MyBMNzIuODcxMjg3MSwzMi41NTQ0MjUgTDY1LjI4MDk3Myw2Ny42NzYzNDIxIEw1MS4xMTIyODk5LDc3LjM3NjE0NCBMMzUuMDA3NzE4LDgwIFoiIGlkPSJQYXRoLTIyIiBmaWxsPSIjMDAyODY4Ij48L3BhdGg+CiAgICAgICAgICAgICAgICA8cGF0aCBkPSJNMCwzNy43MzA0NDA1IEwyNy4xMTQ1MzcsMC4yNTcxMTE0MzYgQzYyLjM3MTUxMjMsLTEuOTkwNzE3MDEgODAsMTAuNTAwMzkyNyA4MCwzNy43MzA0NDA1IEM4MCw2NC45NjA0ODgyIDY0Ljc3NjUwMzgsNzkuMDUwMzQxNCAzNC4zMjk1MTEzLDgwIEM0Ny4wNTUzNDg5LDc3LjU2NzA4MDggNTMuNDE4MjY3Nyw3MC4zMTM2MTAzIDUzLjQxODI2NzcsNTguMjM5NTg4NSBDNTMuNDE4MjY3Nyw0MC4xMjg1NTU3IDM2LjMwMzk1NDQsMzcuNzMwNDQwNSAyNS4yMjc0MTcsMzcuNzMwNDQwNSBDMTcuODQzMDU4NiwzNy43MzA0NDA1IDkuNDMzOTE5NjYsMzcuNzMwNDQwNSAwLDM3LjczMDQ0MDUgWiIgaWQ9IlBhdGgtMTkiIGZpbGw9IiMzNzkzRUYiPjwvcGF0aD4KICAgICAgICAgICAgPC9nPgogICAgICAgIDwvZz4KICAgIDwvZz4KPC9zdmc+' > </img>\nCreated in <span style='font-weight:600;margin-left:4px;'>Deepnote</span></a>",
   "metadata": {
    "tags": [],
    "created_in_deepnote_cell": true,
    "deepnote_cell_type": "markdown"
   }
  }
 ],
 "nbformat": 4,
 "nbformat_minor": 2,
 "metadata": {
  "orig_nbformat": 2,
  "deepnote": {
   "is_reactive": false
  },
  "deepnote_notebook_id": "aed8d0c9-3514-4c71-bfbc-835aa1ce18c0",
  "deepnote_execution_queue": []
 }
}